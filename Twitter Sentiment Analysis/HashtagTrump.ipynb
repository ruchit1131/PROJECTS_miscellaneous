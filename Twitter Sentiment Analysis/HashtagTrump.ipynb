{
 "cells": [
  {
   "cell_type": "code",
   "execution_count": 22,
   "metadata": {},
   "outputs": [],
   "source": [
    "import tweepy          \n",
    "import pandas as pd\n",
    "import numpy as np\n",
    "\n",
    "from textblob import TextBlob\n",
    "import re\n",
    "\n",
    "\n",
    "from IPython.display import display\n",
    "import matplotlib.pyplot as plt\n",
    "#import seaborn as sns\n",
    "%matplotlib inline"
   ]
  },
  {
   "cell_type": "code",
   "execution_count": 23,
   "metadata": {},
   "outputs": [],
   "source": [
    "# Consume:\n",
    "CONSUMER_KEY    = \"KhtiptQ5gtUfx0V5DCnMCeXYI\"\n",
    "CONSUMER_SECRET = \"Em9afXhUezobaiZp2WWsGgCpyxiDSCgvrrap3yuDB8jiF3g9LQ\"\n",
    "\n",
    "# Access:\n",
    "ACCESS_TOKEN  = \"2851590678-AQWVYMvV4MGZBK15e4soQvfOR25s4cW1LL2Uuj0\"\n",
    "ACCESS_SECRET = \"36dPZh8EHIVuCzaprbBYaDQUruYFr4fEHKIxtrDnPttgL\""
   ]
  },
  {
   "cell_type": "code",
   "execution_count": 24,
   "metadata": {},
   "outputs": [],
   "source": [
    "def twitter_setup():\n",
    "    # Will  return an authenticated api\n",
    "    \n",
    "    # Authentication and access using keys:\n",
    "    auth = tweepy.OAuthHandler(CONSUMER_KEY, CONSUMER_SECRET)\n",
    "    auth.set_access_token(ACCESS_TOKEN, ACCESS_SECRET)\n",
    "\n",
    "    # Return API with authentication:\n",
    "    api = tweepy.API(auth)\n",
    "    return api"
   ]
  },
  {
   "cell_type": "code",
   "execution_count": 25,
   "metadata": {},
   "outputs": [
    {
     "name": "stdout",
     "output_type": "stream",
     "text": [
      "Number of tweets extracted: 100\n",
      "\n",
      "5 recent tweets:\n",
      "\n",
      "RT @sergiobolzoni: Leggo di gente che esulta per i #dazi di @realDonaldTrump sulle auto della Germania. Ma come si fa a essere così cretini…\n",
      "\n",
      "@xtrixcyclex @establishmentno @The_Trump_Train @realDonaldTrump @POTUS No I'm not, just did the test yesterday, or… https://t.co/UgNgR91Bx0\n",
      "\n",
      "RT @DougSides: 😡 Jim Acosta not only risked national security, he risked worldwide peace and security with his arrogant outbursts!\n",
      "\n",
      "@realDo…\n",
      "\n",
      "@realDonaldTrump @WhiteHouse https://t.co/11PcE8VYzI\n",
      "\n",
      "México necesita lideres como @realDonaldTrump RT!!!\n",
      "\n"
     ]
    }
   ],
   "source": [
    "extractor = twitter_setup()\n",
    "\n",
    "\n",
    "tweets = extractor.search(q = \"realDonaldTrump\", count=200)\n",
    "#print(extractor)\n",
    "print(\"Number of tweets extracted: {}\\n\".format(len(tweets)) )\n",
    "\n",
    "\n",
    "print(\"5 recent tweets:\\n\")\n",
    "for tweet in tweets[:5]:\n",
    "    print(tweet.text)\n",
    "    print()\n"
   ]
  },
  {
   "cell_type": "code",
   "execution_count": 26,
   "metadata": {},
   "outputs": [
    {
     "data": {
      "text/html": [
       "<div>\n",
       "<style scoped>\n",
       "    .dataframe tbody tr th:only-of-type {\n",
       "        vertical-align: middle;\n",
       "    }\n",
       "\n",
       "    .dataframe tbody tr th {\n",
       "        vertical-align: top;\n",
       "    }\n",
       "\n",
       "    .dataframe thead th {\n",
       "        text-align: right;\n",
       "    }\n",
       "</style>\n",
       "<table border=\"1\" class=\"dataframe\">\n",
       "  <thead>\n",
       "    <tr style=\"text-align: right;\">\n",
       "      <th></th>\n",
       "      <th>Tweets</th>\n",
       "    </tr>\n",
       "  </thead>\n",
       "  <tbody>\n",
       "    <tr>\n",
       "      <th>0</th>\n",
       "      <td>RT @sergiobolzoni: Leggo di gente che esulta p...</td>\n",
       "    </tr>\n",
       "    <tr>\n",
       "      <th>1</th>\n",
       "      <td>@xtrixcyclex @establishmentno @The_Trump_Train...</td>\n",
       "    </tr>\n",
       "    <tr>\n",
       "      <th>2</th>\n",
       "      <td>RT @DougSides: 😡 Jim Acosta not only risked na...</td>\n",
       "    </tr>\n",
       "    <tr>\n",
       "      <th>3</th>\n",
       "      <td>@realDonaldTrump @WhiteHouse https://t.co/11Pc...</td>\n",
       "    </tr>\n",
       "    <tr>\n",
       "      <th>4</th>\n",
       "      <td>México necesita lideres como @realDonaldTrump ...</td>\n",
       "    </tr>\n",
       "    <tr>\n",
       "      <th>5</th>\n",
       "      <td>@GovMikeHuckabee @POTUS @realDonaldTrump You a...</td>\n",
       "    </tr>\n",
       "    <tr>\n",
       "      <th>6</th>\n",
       "      <td>@xtrixcyclex @dodgetrucks218 @The_Trump_Train ...</td>\n",
       "    </tr>\n",
       "    <tr>\n",
       "      <th>7</th>\n",
       "      <td>RT @tedlieu: Dear @realDonaldTrump: I served o...</td>\n",
       "    </tr>\n",
       "    <tr>\n",
       "      <th>8</th>\n",
       "      <td>RT @The_Trump_Train: @realDonaldTrump I don’t ...</td>\n",
       "    </tr>\n",
       "    <tr>\n",
       "      <th>9</th>\n",
       "      <td>@Elightman @parscale @Acosta @realDonaldTrump ...</td>\n",
       "    </tr>\n",
       "  </tbody>\n",
       "</table>\n",
       "</div>"
      ],
      "text/plain": [
       "                                              Tweets\n",
       "0  RT @sergiobolzoni: Leggo di gente che esulta p...\n",
       "1  @xtrixcyclex @establishmentno @The_Trump_Train...\n",
       "2  RT @DougSides: 😡 Jim Acosta not only risked na...\n",
       "3  @realDonaldTrump @WhiteHouse https://t.co/11Pc...\n",
       "4  México necesita lideres como @realDonaldTrump ...\n",
       "5  @GovMikeHuckabee @POTUS @realDonaldTrump You a...\n",
       "6  @xtrixcyclex @dodgetrucks218 @The_Trump_Train ...\n",
       "7  RT @tedlieu: Dear @realDonaldTrump: I served o...\n",
       "8  RT @The_Trump_Train: @realDonaldTrump I don’t ...\n",
       "9  @Elightman @parscale @Acosta @realDonaldTrump ..."
      ]
     },
     "metadata": {},
     "output_type": "display_data"
    }
   ],
   "source": [
    "\n",
    "data = pd.DataFrame(data=[tweet.text for tweet in tweets], columns=['Tweets'])\n",
    "\n",
    "\n",
    "display(data.head(10))\n"
   ]
  },
  {
   "cell_type": "code",
   "execution_count": 27,
   "metadata": {},
   "outputs": [
    {
     "name": "stdout",
     "output_type": "stream",
     "text": [
      "['__class__', '__delattr__', '__dict__', '__dir__', '__doc__', '__eq__', '__format__', '__ge__', '__getattribute__', '__getstate__', '__gt__', '__hash__', '__init__', '__le__', '__lt__', '__module__', '__ne__', '__new__', '__reduce__', '__reduce_ex__', '__repr__', '__setattr__', '__sizeof__', '__str__', '__subclasshook__', '__weakref__', '_api', '_json', 'author', 'contributors', 'coordinates', 'created_at', 'destroy', 'entities', 'favorite', 'favorite_count', 'favorited', 'geo', 'id', 'id_str', 'in_reply_to_screen_name', 'in_reply_to_status_id', 'in_reply_to_status_id_str', 'in_reply_to_user_id', 'in_reply_to_user_id_str', 'is_quote_status', 'lang', 'metadata', 'parse', 'parse_list', 'place', 'retweet', 'retweet_count', 'retweeted', 'retweeted_status', 'retweets', 'source', 'source_url', 'text', 'truncated', 'user']\n"
     ]
    }
   ],
   "source": [
    "print(dir(tweets[0]))"
   ]
  },
  {
   "cell_type": "code",
   "execution_count": 42,
   "metadata": {},
   "outputs": [],
   "source": [
    "data['len']  = np.array([len(tweet.text) for tweet in tweets])\n",
    "#data['ID']   = np.array([tweet.id for tweet in tweets])\n",
    "data['Date'] = np.array([tweet.created_at for tweet in tweets])\n",
    "data['Source'] = np.array([tweet.source for tweet in tweets])\n",
    "data['Likes']  = np.array([tweet.favorite_count for tweet in tweets])\n",
    "data['RTs']    = np.array([tweet.retweet_count for tweet in tweets])"
   ]
  },
  {
   "cell_type": "code",
   "execution_count": 43,
   "metadata": {},
   "outputs": [
    {
     "data": {
      "text/html": [
       "<div>\n",
       "<style scoped>\n",
       "    .dataframe tbody tr th:only-of-type {\n",
       "        vertical-align: middle;\n",
       "    }\n",
       "\n",
       "    .dataframe tbody tr th {\n",
       "        vertical-align: top;\n",
       "    }\n",
       "\n",
       "    .dataframe thead th {\n",
       "        text-align: right;\n",
       "    }\n",
       "</style>\n",
       "<table border=\"1\" class=\"dataframe\">\n",
       "  <thead>\n",
       "    <tr style=\"text-align: right;\">\n",
       "      <th></th>\n",
       "      <th>Tweets</th>\n",
       "      <th>len</th>\n",
       "      <th>ID</th>\n",
       "      <th>Date</th>\n",
       "      <th>Likes</th>\n",
       "      <th>RTs</th>\n",
       "      <th>Source</th>\n",
       "    </tr>\n",
       "  </thead>\n",
       "  <tbody>\n",
       "    <tr>\n",
       "      <th>0</th>\n",
       "      <td>RT @sergiobolzoni: Leggo di gente che esulta p...</td>\n",
       "      <td>140</td>\n",
       "      <td>1006749080108830720</td>\n",
       "      <td>2018-06-13 04:04:19</td>\n",
       "      <td>0</td>\n",
       "      <td>109</td>\n",
       "      <td>Twitter for Android</td>\n",
       "    </tr>\n",
       "    <tr>\n",
       "      <th>1</th>\n",
       "      <td>@xtrixcyclex @establishmentno @The_Trump_Train...</td>\n",
       "      <td>139</td>\n",
       "      <td>1006749079932633088</td>\n",
       "      <td>2018-06-13 04:04:19</td>\n",
       "      <td>0</td>\n",
       "      <td>0</td>\n",
       "      <td>Twitter for Android</td>\n",
       "    </tr>\n",
       "    <tr>\n",
       "      <th>2</th>\n",
       "      <td>RT @DougSides: 😡 Jim Acosta not only risked na...</td>\n",
       "      <td>140</td>\n",
       "      <td>1006749079907586048</td>\n",
       "      <td>2018-06-13 04:04:19</td>\n",
       "      <td>0</td>\n",
       "      <td>506</td>\n",
       "      <td>Twitter Web Client</td>\n",
       "    </tr>\n",
       "    <tr>\n",
       "      <th>3</th>\n",
       "      <td>@realDonaldTrump @WhiteHouse https://t.co/11Pc...</td>\n",
       "      <td>52</td>\n",
       "      <td>1006749079886442496</td>\n",
       "      <td>2018-06-13 04:04:19</td>\n",
       "      <td>0</td>\n",
       "      <td>0</td>\n",
       "      <td>Twitter for Android</td>\n",
       "    </tr>\n",
       "    <tr>\n",
       "      <th>4</th>\n",
       "      <td>México necesita lideres como @realDonaldTrump ...</td>\n",
       "      <td>51</td>\n",
       "      <td>1006749079664115714</td>\n",
       "      <td>2018-06-13 04:04:19</td>\n",
       "      <td>0</td>\n",
       "      <td>0</td>\n",
       "      <td>Twitter for Android</td>\n",
       "    </tr>\n",
       "    <tr>\n",
       "      <th>5</th>\n",
       "      <td>@GovMikeHuckabee @POTUS @realDonaldTrump You a...</td>\n",
       "      <td>106</td>\n",
       "      <td>1006749079228026880</td>\n",
       "      <td>2018-06-13 04:04:19</td>\n",
       "      <td>0</td>\n",
       "      <td>0</td>\n",
       "      <td>Twitter Web Client</td>\n",
       "    </tr>\n",
       "    <tr>\n",
       "      <th>6</th>\n",
       "      <td>@xtrixcyclex @dodgetrucks218 @The_Trump_Train ...</td>\n",
       "      <td>140</td>\n",
       "      <td>1006749078892367872</td>\n",
       "      <td>2018-06-13 04:04:19</td>\n",
       "      <td>0</td>\n",
       "      <td>0</td>\n",
       "      <td>Twitter for Android</td>\n",
       "    </tr>\n",
       "    <tr>\n",
       "      <th>7</th>\n",
       "      <td>RT @tedlieu: Dear @realDonaldTrump: I served o...</td>\n",
       "      <td>140</td>\n",
       "      <td>1006749078674341888</td>\n",
       "      <td>2018-06-13 04:04:19</td>\n",
       "      <td>0</td>\n",
       "      <td>6232</td>\n",
       "      <td>Twitter for Android</td>\n",
       "    </tr>\n",
       "    <tr>\n",
       "      <th>8</th>\n",
       "      <td>RT @The_Trump_Train: @realDonaldTrump I don’t ...</td>\n",
       "      <td>138</td>\n",
       "      <td>1006749078502469632</td>\n",
       "      <td>2018-06-13 04:04:19</td>\n",
       "      <td>0</td>\n",
       "      <td>200</td>\n",
       "      <td>Twitter for iPhone</td>\n",
       "    </tr>\n",
       "    <tr>\n",
       "      <th>9</th>\n",
       "      <td>@Elightman @parscale @Acosta @realDonaldTrump ...</td>\n",
       "      <td>96</td>\n",
       "      <td>1006749077948784640</td>\n",
       "      <td>2018-06-13 04:04:19</td>\n",
       "      <td>0</td>\n",
       "      <td>0</td>\n",
       "      <td>Twitter for iPad</td>\n",
       "    </tr>\n",
       "  </tbody>\n",
       "</table>\n",
       "</div>"
      ],
      "text/plain": [
       "                                              Tweets  len  \\\n",
       "0  RT @sergiobolzoni: Leggo di gente che esulta p...  140   \n",
       "1  @xtrixcyclex @establishmentno @The_Trump_Train...  139   \n",
       "2  RT @DougSides: 😡 Jim Acosta not only risked na...  140   \n",
       "3  @realDonaldTrump @WhiteHouse https://t.co/11Pc...   52   \n",
       "4  México necesita lideres como @realDonaldTrump ...   51   \n",
       "5  @GovMikeHuckabee @POTUS @realDonaldTrump You a...  106   \n",
       "6  @xtrixcyclex @dodgetrucks218 @The_Trump_Train ...  140   \n",
       "7  RT @tedlieu: Dear @realDonaldTrump: I served o...  140   \n",
       "8  RT @The_Trump_Train: @realDonaldTrump I don’t ...  138   \n",
       "9  @Elightman @parscale @Acosta @realDonaldTrump ...   96   \n",
       "\n",
       "                    ID                Date  Likes   RTs               Source  \n",
       "0  1006749080108830720 2018-06-13 04:04:19      0   109  Twitter for Android  \n",
       "1  1006749079932633088 2018-06-13 04:04:19      0     0  Twitter for Android  \n",
       "2  1006749079907586048 2018-06-13 04:04:19      0   506   Twitter Web Client  \n",
       "3  1006749079886442496 2018-06-13 04:04:19      0     0  Twitter for Android  \n",
       "4  1006749079664115714 2018-06-13 04:04:19      0     0  Twitter for Android  \n",
       "5  1006749079228026880 2018-06-13 04:04:19      0     0   Twitter Web Client  \n",
       "6  1006749078892367872 2018-06-13 04:04:19      0     0  Twitter for Android  \n",
       "7  1006749078674341888 2018-06-13 04:04:19      0  6232  Twitter for Android  \n",
       "8  1006749078502469632 2018-06-13 04:04:19      0   200   Twitter for iPhone  \n",
       "9  1006749077948784640 2018-06-13 04:04:19      0     0     Twitter for iPad  "
      ]
     },
     "metadata": {},
     "output_type": "display_data"
    }
   ],
   "source": [
    "display(data.head(10))"
   ]
  },
  {
   "cell_type": "code",
   "execution_count": 44,
   "metadata": {},
   "outputs": [
    {
     "name": "stdout",
     "output_type": "stream",
     "text": [
      "The lenght's average in tweets: 116.27\n"
     ]
    }
   ],
   "source": [
    "\n",
    "mean = np.mean(data['len'])\n",
    "\n",
    "print(\"The lenght's average in tweets: {}\".format(mean))\n"
   ]
  },
  {
   "cell_type": "code",
   "execution_count": 45,
   "metadata": {},
   "outputs": [
    {
     "name": "stdout",
     "output_type": "stream",
     "text": [
      "The tweet with more likes is: \n",
      "RT @sergiobolzoni: Leggo di gente che esulta per i #dazi di @realDonaldTrump sulle auto della Germania. Ma come si fa a essere così cretini…\n",
      "Number of likes: 0\n",
      "140 characters.\n",
      "\n",
      "The tweet with more retweets is: \n",
      "RT @realDonaldTrump: https://t.co/tJG3KIn2q0\n",
      "Number of retweets: 46826\n",
      "44 characters.\n",
      "\n"
     ]
    }
   ],
   "source": [
    "fav_max = np.max(data['Likes'])\n",
    "rt_max  = np.max(data['RTs'])\n",
    "\n",
    "fav = data[data.Likes == fav_max].index[0]\n",
    "rt  = data[data.RTs == rt_max].index[0]\n",
    "\n",
    "# Max FAVs:\n",
    "print(\"The tweet with more likes is: \\n{}\".format(data['Tweets'][fav]))\n",
    "print(\"Number of likes: {}\".format(fav_max))\n",
    "print(\"{} characters.\\n\".format(data['len'][fav]))\n",
    "\n",
    "# Max RTs:\n",
    "\n",
    "print(\"The tweet with more retweets is: \\n{}\".format(data['Tweets'][rt]))\n",
    "print(\"Number of retweets: {}\".format(rt_max))\n",
    "print(\"{} characters.\\n\".format(data['len'][rt]))"
   ]
  },
  {
   "cell_type": "code",
   "execution_count": 46,
   "metadata": {},
   "outputs": [],
   "source": [
    "tlen = pd.Series(data=data['len'].values, index=data['Date'])\n",
    "tfav = pd.Series(data=data['Likes'].values, index=data['Date'])\n",
    "tret = pd.Series(data=data['RTs'].values, index=data['Date'])"
   ]
  },
  {
   "cell_type": "code",
   "execution_count": 47,
   "metadata": {},
   "outputs": [
    {
     "data": {
      "image/png": "[encoded data removed]",
      "text/plain": [
       "<Figure size 1152x288 with 1 Axes>"
      ]
     },
     "metadata": {},
     "output_type": "display_data"
    }
   ],
   "source": [
    "tlen.plot(figsize=(16,4), color='r');"
   ]
  },
  {
   "cell_type": "code",
   "execution_count": 51,
   "metadata": {},
   "outputs": [
    {
     "data": {
      "image/png": "[encoded data removed]",
      "text/plain": [
       "<Figure size 1152x288 with 1 Axes>"
      ]
     },
     "metadata": {},
     "output_type": "display_data"
    }
   ],
   "source": [
    "tfav.plot(figsize=(16,4), label=\"Likes\", legend=True)\n",
    "tret.plot(figsize=(16,4), label=\"Retweets\", legend=True);"
   ]
  },
  {
   "cell_type": "code",
   "execution_count": 52,
   "metadata": {},
   "outputs": [
    {
     "name": "stdout",
     "output_type": "stream",
     "text": [
      "Creation of content sources:\n",
      "* Twitter for Android\n",
      "* Twitter Web Client\n",
      "* Twitter for iPhone\n",
      "* Twitter for iPad\n",
      "* Twitter Lite\n",
      "* dlvr.it\n"
     ]
    }
   ],
   "source": [
    "\n",
    "sources = []\n",
    "for source in data['Source']:\n",
    "    if source not in sources:\n",
    "        sources.append(source)\n",
    "\n",
    "\n",
    "print(\"Creation of content sources:\")\n",
    "for source in sources:\n",
    "    print(\"* {}\".format(source))\n"
   ]
  },
  {
   "cell_type": "code",
   "execution_count": 54,
   "metadata": {},
   "outputs": [
    {
     "data": {
      "image/png": "[encoded data removed]",
      "text/plain": [
       "<Figure size 432x432 with 1 Axes>"
      ]
     },
     "metadata": {},
     "output_type": "display_data"
    }
   ],
   "source": [
    "# We create a numpy vector mapped to labels:\n",
    "\n",
    "percent = np.zeros(len(sources))\n",
    "\n",
    "for source in data['Source']:\n",
    "    for index in range(len(sources)):\n",
    "        if source == sources[index]:\n",
    "            percent[index] += 1\n",
    "            pass\n",
    "\n",
    "percent /= 100\n",
    "\n",
    "\n",
    "pie_chart = pd.Series(percent, index=sources, name='Sources')\n",
    "pie_chart.plot.pie(fontsize=11, autopct='%.2f', figsize=(6, 6));\n"
   ]
  },
  {
   "cell_type": "code",
   "execution_count": 56,
   "metadata": {},
   "outputs": [],
   "source": [
    "def clean_tweet(tweet):\n",
    "    '''\n",
    "    Utility function to clean the text in a tweet by removing \n",
    "    links and special characters using regex.\n",
    "    '''\n",
    "    return ' '.join(re.sub(\"(@[A-Za-z0-9]+)|([^0-9A-Za-z \\t])|(\\w+:\\/\\/\\S+)\", \" \", tweet).split())\n",
    "\n",
    "def analize_sentiment(tweet):\n",
    "    '''\n",
    "    Utility function to classify the polarity of a tweet\n",
    "    using textblob.\n",
    "    '''\n",
    "    analysis = TextBlob(clean_tweet(tweet))\n",
    "    if analysis.sentiment.polarity > 0:\n",
    "        return 1\n",
    "    elif analysis.sentiment.polarity == 0:\n",
    "        return 0\n",
    "    else:\n",
    "        return -1\n"
   ]
  },
  {
   "cell_type": "code",
   "execution_count": 59,
   "metadata": {},
   "outputs": [
    {
     "data": {
      "text/html": [
       "<div>\n",
       "<style scoped>\n",
       "    .dataframe tbody tr th:only-of-type {\n",
       "        vertical-align: middle;\n",
       "    }\n",
       "\n",
       "    .dataframe tbody tr th {\n",
       "        vertical-align: top;\n",
       "    }\n",
       "\n",
       "    .dataframe thead th {\n",
       "        text-align: right;\n",
       "    }\n",
       "</style>\n",
       "<table border=\"1\" class=\"dataframe\">\n",
       "  <thead>\n",
       "    <tr style=\"text-align: right;\">\n",
       "      <th></th>\n",
       "      <th>Tweets</th>\n",
       "      <th>len</th>\n",
       "      <th>ID</th>\n",
       "      <th>Date</th>\n",
       "      <th>Likes</th>\n",
       "      <th>RTs</th>\n",
       "      <th>Source</th>\n",
       "      <th>SA</th>\n",
       "    </tr>\n",
       "  </thead>\n",
       "  <tbody>\n",
       "    <tr>\n",
       "      <th>0</th>\n",
       "      <td>RT @sergiobolzoni: Leggo di gente che esulta p...</td>\n",
       "      <td>140</td>\n",
       "      <td>1006749080108830720</td>\n",
       "      <td>2018-06-13 04:04:19</td>\n",
       "      <td>0</td>\n",
       "      <td>109</td>\n",
       "      <td>Twitter for Android</td>\n",
       "      <td>0</td>\n",
       "    </tr>\n",
       "    <tr>\n",
       "      <th>1</th>\n",
       "      <td>@xtrixcyclex @establishmentno @The_Trump_Train...</td>\n",
       "      <td>139</td>\n",
       "      <td>1006749079932633088</td>\n",
       "      <td>2018-06-13 04:04:19</td>\n",
       "      <td>0</td>\n",
       "      <td>0</td>\n",
       "      <td>Twitter for Android</td>\n",
       "      <td>0</td>\n",
       "    </tr>\n",
       "    <tr>\n",
       "      <th>2</th>\n",
       "      <td>RT @DougSides: 😡 Jim Acosta not only risked na...</td>\n",
       "      <td>140</td>\n",
       "      <td>1006749079907586048</td>\n",
       "      <td>2018-06-13 04:04:19</td>\n",
       "      <td>0</td>\n",
       "      <td>506</td>\n",
       "      <td>Twitter Web Client</td>\n",
       "      <td>0</td>\n",
       "    </tr>\n",
       "    <tr>\n",
       "      <th>3</th>\n",
       "      <td>@realDonaldTrump @WhiteHouse https://t.co/11Pc...</td>\n",
       "      <td>52</td>\n",
       "      <td>1006749079886442496</td>\n",
       "      <td>2018-06-13 04:04:19</td>\n",
       "      <td>0</td>\n",
       "      <td>0</td>\n",
       "      <td>Twitter for Android</td>\n",
       "      <td>0</td>\n",
       "    </tr>\n",
       "    <tr>\n",
       "      <th>4</th>\n",
       "      <td>México necesita lideres como @realDonaldTrump ...</td>\n",
       "      <td>51</td>\n",
       "      <td>1006749079664115714</td>\n",
       "      <td>2018-06-13 04:04:19</td>\n",
       "      <td>0</td>\n",
       "      <td>0</td>\n",
       "      <td>Twitter for Android</td>\n",
       "      <td>0</td>\n",
       "    </tr>\n",
       "    <tr>\n",
       "      <th>5</th>\n",
       "      <td>@GovMikeHuckabee @POTUS @realDonaldTrump You a...</td>\n",
       "      <td>106</td>\n",
       "      <td>1006749079228026880</td>\n",
       "      <td>2018-06-13 04:04:19</td>\n",
       "      <td>0</td>\n",
       "      <td>0</td>\n",
       "      <td>Twitter Web Client</td>\n",
       "      <td>-1</td>\n",
       "    </tr>\n",
       "    <tr>\n",
       "      <th>6</th>\n",
       "      <td>@xtrixcyclex @dodgetrucks218 @The_Trump_Train ...</td>\n",
       "      <td>140</td>\n",
       "      <td>1006749078892367872</td>\n",
       "      <td>2018-06-13 04:04:19</td>\n",
       "      <td>0</td>\n",
       "      <td>0</td>\n",
       "      <td>Twitter for Android</td>\n",
       "      <td>1</td>\n",
       "    </tr>\n",
       "    <tr>\n",
       "      <th>7</th>\n",
       "      <td>RT @tedlieu: Dear @realDonaldTrump: I served o...</td>\n",
       "      <td>140</td>\n",
       "      <td>1006749078674341888</td>\n",
       "      <td>2018-06-13 04:04:19</td>\n",
       "      <td>0</td>\n",
       "      <td>6232</td>\n",
       "      <td>Twitter for Android</td>\n",
       "      <td>-1</td>\n",
       "    </tr>\n",
       "    <tr>\n",
       "      <th>8</th>\n",
       "      <td>RT @The_Trump_Train: @realDonaldTrump I don’t ...</td>\n",
       "      <td>138</td>\n",
       "      <td>1006749078502469632</td>\n",
       "      <td>2018-06-13 04:04:19</td>\n",
       "      <td>0</td>\n",
       "      <td>200</td>\n",
       "      <td>Twitter for iPhone</td>\n",
       "      <td>-1</td>\n",
       "    </tr>\n",
       "    <tr>\n",
       "      <th>9</th>\n",
       "      <td>@Elightman @parscale @Acosta @realDonaldTrump ...</td>\n",
       "      <td>96</td>\n",
       "      <td>1006749077948784640</td>\n",
       "      <td>2018-06-13 04:04:19</td>\n",
       "      <td>0</td>\n",
       "      <td>0</td>\n",
       "      <td>Twitter for iPad</td>\n",
       "      <td>1</td>\n",
       "    </tr>\n",
       "  </tbody>\n",
       "</table>\n",
       "</div>"
      ],
      "text/plain": [
       "                                              Tweets  len  \\\n",
       "0  RT @sergiobolzoni: Leggo di gente che esulta p...  140   \n",
       "1  @xtrixcyclex @establishmentno @The_Trump_Train...  139   \n",
       "2  RT @DougSides: 😡 Jim Acosta not only risked na...  140   \n",
       "3  @realDonaldTrump @WhiteHouse https://t.co/11Pc...   52   \n",
       "4  México necesita lideres como @realDonaldTrump ...   51   \n",
       "5  @GovMikeHuckabee @POTUS @realDonaldTrump You a...  106   \n",
       "6  @xtrixcyclex @dodgetrucks218 @The_Trump_Train ...  140   \n",
       "7  RT @tedlieu: Dear @realDonaldTrump: I served o...  140   \n",
       "8  RT @The_Trump_Train: @realDonaldTrump I don’t ...  138   \n",
       "9  @Elightman @parscale @Acosta @realDonaldTrump ...   96   \n",
       "\n",
       "                    ID                Date  Likes   RTs               Source  \\\n",
       "0  1006749080108830720 2018-06-13 04:04:19      0   109  Twitter for Android   \n",
       "1  1006749079932633088 2018-06-13 04:04:19      0     0  Twitter for Android   \n",
       "2  1006749079907586048 2018-06-13 04:04:19      0   506   Twitter Web Client   \n",
       "3  1006749079886442496 2018-06-13 04:04:19      0     0  Twitter for Android   \n",
       "4  1006749079664115714 2018-06-13 04:04:19      0     0  Twitter for Android   \n",
       "5  1006749079228026880 2018-06-13 04:04:19      0     0   Twitter Web Client   \n",
       "6  1006749078892367872 2018-06-13 04:04:19      0     0  Twitter for Android   \n",
       "7  1006749078674341888 2018-06-13 04:04:19      0  6232  Twitter for Android   \n",
       "8  1006749078502469632 2018-06-13 04:04:19      0   200   Twitter for iPhone   \n",
       "9  1006749077948784640 2018-06-13 04:04:19      0     0     Twitter for iPad   \n",
       "\n",
       "   SA  \n",
       "0   0  \n",
       "1   0  \n",
       "2   0  \n",
       "3   0  \n",
       "4   0  \n",
       "5  -1  \n",
       "6   1  \n",
       "7  -1  \n",
       "8  -1  \n",
       "9   1  "
      ]
     },
     "metadata": {},
     "output_type": "display_data"
    }
   ],
   "source": [
    "# Column >> result\n",
    "data['SA'] = np.array([ analize_sentiment(tweet) for tweet in data['Tweets'] ])\n",
    "\n",
    "#display head again\n",
    "display(data.head(10))\n",
    "\n",
    "li = []\n",
    "for i in range(20):\n",
    "    li.append( str(data.loc[:20, [\"Tweets\"] ]) )"
   ]
  },
  {
   "cell_type": "code",
   "execution_count": 58,
   "metadata": {},
   "outputs": [
    {
     "name": "stdout",
     "output_type": "stream",
     "text": [
      "[\"                                               Tweets\\n0   RT @sergiobolzoni: Leggo di gente che esulta p...\\n1   @xtrixcyclex @establishmentno @The_Trump_Train...\\n2   RT @DougSides: 😡 Jim Acosta not only risked na...\\n3   @realDonaldTrump @WhiteHouse https://t.co/11Pc...\\n4   México necesita lideres como @realDonaldTrump ...\\n5   @GovMikeHuckabee @POTUS @realDonaldTrump You a...\\n6   @xtrixcyclex @dodgetrucks218 @The_Trump_Train ...\\n7   RT @tedlieu: Dear @realDonaldTrump: I served o...\\n8   RT @The_Trump_Train: @realDonaldTrump I don’t ...\\n9   @Elightman @parscale @Acosta @realDonaldTrump ...\\n10  RT @EpochTimes: Thousands Suspected of Child S...\\n11  @realDonaldTrump That's because they are not o...\\n12  RT @AMErikaNGIRLBOT: Watch⬇️ Justin Trudeau’s ...\\n13  @realDonaldTrump Dear God people we should all...\\n14  @FoxNews @MZHemingway @realDonaldTrump Can we ...\\n15  RT @SenatorCantwell: Last week, I demanded @re...\\n16  RT @JohnJohnpitt11: @JohnellU @DonnaWR8 @realD...\\n17  @parscale @Acosta @realDonaldTrump The Chump s...\\n18  Despite what @SenSchumer claims, the #NoKoSumm...\\n19  @AceHa @Hawaiianbryan_ @realDonaldTrump I’m su...\\n20  @Nic6454 @realDonaldTrump Everyone I talk to w...\", \"                                               Tweets\\n0   RT @sergiobolzoni: Leggo di gente che esulta p...\\n1   @xtrixcyclex @establishmentno @The_Trump_Train...\\n2   RT @DougSides: 😡 Jim Acosta not only risked na...\\n3   @realDonaldTrump @WhiteHouse https://t.co/11Pc...\\n4   México necesita lideres como @realDonaldTrump ...\\n5   @GovMikeHuckabee @POTUS @realDonaldTrump You a...\\n6   @xtrixcyclex @dodgetrucks218 @The_Trump_Train ...\\n7   RT @tedlieu: Dear @realDonaldTrump: I served o...\\n8   RT @The_Trump_Train: @realDonaldTrump I don’t ...\\n9   @Elightman @parscale @Acosta @realDonaldTrump ...\\n10  RT @EpochTimes: Thousands Suspected of Child S...\\n11  @realDonaldTrump That's because they are not o...\\n12  RT @AMErikaNGIRLBOT: Watch⬇️ Justin Trudeau’s ...\\n13  @realDonaldTrump Dear God people we should all...\\n14  @FoxNews @MZHemingway @realDonaldTrump Can we ...\\n15  RT @SenatorCantwell: Last week, I demanded @re...\\n16  RT @JohnJohnpitt11: @JohnellU @DonnaWR8 @realD...\\n17  @parscale @Acosta @realDonaldTrump The Chump s...\\n18  Despite what @SenSchumer claims, the #NoKoSumm...\\n19  @AceHa @Hawaiianbryan_ @realDonaldTrump I’m su...\\n20  @Nic6454 @realDonaldTrump Everyone I talk to w...\", \"                                               Tweets\\n0   RT @sergiobolzoni: Leggo di gente che esulta p...\\n1   @xtrixcyclex @establishmentno @The_Trump_Train...\\n2   RT @DougSides: 😡 Jim Acosta not only risked na...\\n3   @realDonaldTrump @WhiteHouse https://t.co/11Pc...\\n4   México necesita lideres como @realDonaldTrump ...\\n5   @GovMikeHuckabee @POTUS @realDonaldTrump You a...\\n6   @xtrixcyclex @dodgetrucks218 @The_Trump_Train ...\\n7   RT @tedlieu: Dear @realDonaldTrump: I served o...\\n8   RT @The_Trump_Train: @realDonaldTrump I don’t ...\\n9   @Elightman @parscale @Acosta @realDonaldTrump ...\\n10  RT @EpochTimes: Thousands Suspected of Child S...\\n11  @realDonaldTrump That's because they are not o...\\n12  RT @AMErikaNGIRLBOT: Watch⬇️ Justin Trudeau’s ...\\n13  @realDonaldTrump Dear God people we should all...\\n14  @FoxNews @MZHemingway @realDonaldTrump Can we ...\\n15  RT @SenatorCantwell: Last week, I demanded @re...\\n16  RT @JohnJohnpitt11: @JohnellU @DonnaWR8 @realD...\\n17  @parscale @Acosta @realDonaldTrump The Chump s...\\n18  Despite what @SenSchumer claims, the #NoKoSumm...\\n19  @AceHa @Hawaiianbryan_ @realDonaldTrump I’m su...\\n20  @Nic6454 @realDonaldTrump Everyone I talk to w...\", \"                                               Tweets\\n0   RT @sergiobolzoni: Leggo di gente che esulta p...\\n1   @xtrixcyclex @establishmentno @The_Trump_Train...\\n2   RT @DougSides: 😡 Jim Acosta not only risked na...\\n3   @realDonaldTrump @WhiteHouse https://t.co/11Pc...\\n4   México necesita lideres como @realDonaldTrump ...\\n5   @GovMikeHuckabee @POTUS @realDonaldTrump You a...\\n6   @xtrixcyclex @dodgetrucks218 @The_Trump_Train ...\\n7   RT @tedlieu: Dear @realDonaldTrump: I served o...\\n8   RT @The_Trump_Train: @realDonaldTrump I don’t ...\\n9   @Elightman @parscale @Acosta @realDonaldTrump ...\\n10  RT @EpochTimes: Thousands Suspected of Child S...\\n11  @realDonaldTrump That's because they are not o...\\n12  RT @AMErikaNGIRLBOT: Watch⬇️ Justin Trudeau’s ...\\n13  @realDonaldTrump Dear God people we should all...\\n14  @FoxNews @MZHemingway @realDonaldTrump Can we ...\\n15  RT @SenatorCantwell: Last week, I demanded @re...\\n16  RT @JohnJohnpitt11: @JohnellU @DonnaWR8 @realD...\\n17  @parscale @Acosta @realDonaldTrump The Chump s...\\n18  Despite what @SenSchumer claims, the #NoKoSumm...\\n19  @AceHa @Hawaiianbryan_ @realDonaldTrump I’m su...\\n20  @Nic6454 @realDonaldTrump Everyone I talk to w...\", \"                                               Tweets\\n0   RT @sergiobolzoni: Leggo di gente che esulta p...\\n1   @xtrixcyclex @establishmentno @The_Trump_Train...\\n2   RT @DougSides: 😡 Jim Acosta not only risked na...\\n3   @realDonaldTrump @WhiteHouse https://t.co/11Pc...\\n4   México necesita lideres como @realDonaldTrump ...\\n5   @GovMikeHuckabee @POTUS @realDonaldTrump You a...\\n6   @xtrixcyclex @dodgetrucks218 @The_Trump_Train ...\\n7   RT @tedlieu: Dear @realDonaldTrump: I served o...\\n8   RT @The_Trump_Train: @realDonaldTrump I don’t ...\\n9   @Elightman @parscale @Acosta @realDonaldTrump ...\\n10  RT @EpochTimes: Thousands Suspected of Child S...\\n11  @realDonaldTrump That's because they are not o...\\n12  RT @AMErikaNGIRLBOT: Watch⬇️ Justin Trudeau’s ...\\n13  @realDonaldTrump Dear God people we should all...\\n14  @FoxNews @MZHemingway @realDonaldTrump Can we ...\\n15  RT @SenatorCantwell: Last week, I demanded @re...\\n16  RT @JohnJohnpitt11: @JohnellU @DonnaWR8 @realD...\\n17  @parscale @Acosta @realDonaldTrump The Chump s...\\n18  Despite what @SenSchumer claims, the #NoKoSumm...\\n19  @AceHa @Hawaiianbryan_ @realDonaldTrump I’m su...\\n20  @Nic6454 @realDonaldTrump Everyone I talk to w...\", \"                                               Tweets\\n0   RT @sergiobolzoni: Leggo di gente che esulta p...\\n1   @xtrixcyclex @establishmentno @The_Trump_Train...\\n2   RT @DougSides: 😡 Jim Acosta not only risked na...\\n3   @realDonaldTrump @WhiteHouse https://t.co/11Pc...\\n4   México necesita lideres como @realDonaldTrump ...\\n5   @GovMikeHuckabee @POTUS @realDonaldTrump You a...\\n6   @xtrixcyclex @dodgetrucks218 @The_Trump_Train ...\\n7   RT @tedlieu: Dear @realDonaldTrump: I served o...\\n8   RT @The_Trump_Train: @realDonaldTrump I don’t ...\\n9   @Elightman @parscale @Acosta @realDonaldTrump ...\\n10  RT @EpochTimes: Thousands Suspected of Child S...\\n11  @realDonaldTrump That's because they are not o...\\n12  RT @AMErikaNGIRLBOT: Watch⬇️ Justin Trudeau’s ...\\n13  @realDonaldTrump Dear God people we should all...\\n14  @FoxNews @MZHemingway @realDonaldTrump Can we ...\\n15  RT @SenatorCantwell: Last week, I demanded @re...\\n16  RT @JohnJohnpitt11: @JohnellU @DonnaWR8 @realD...\\n17  @parscale @Acosta @realDonaldTrump The Chump s...\\n18  Despite what @SenSchumer claims, the #NoKoSumm...\\n19  @AceHa @Hawaiianbryan_ @realDonaldTrump I’m su...\\n20  @Nic6454 @realDonaldTrump Everyone I talk to w...\", \"                                               Tweets\\n0   RT @sergiobolzoni: Leggo di gente che esulta p...\\n1   @xtrixcyclex @establishmentno @The_Trump_Train...\\n2   RT @DougSides: 😡 Jim Acosta not only risked na...\\n3   @realDonaldTrump @WhiteHouse https://t.co/11Pc...\\n4   México necesita lideres como @realDonaldTrump ...\\n5   @GovMikeHuckabee @POTUS @realDonaldTrump You a...\\n6   @xtrixcyclex @dodgetrucks218 @The_Trump_Train ...\\n7   RT @tedlieu: Dear @realDonaldTrump: I served o...\\n8   RT @The_Trump_Train: @realDonaldTrump I don’t ...\\n9   @Elightman @parscale @Acosta @realDonaldTrump ...\\n10  RT @EpochTimes: Thousands Suspected of Child S...\\n11  @realDonaldTrump That's because they are not o...\\n12  RT @AMErikaNGIRLBOT: Watch⬇️ Justin Trudeau’s ...\\n13  @realDonaldTrump Dear God people we should all...\\n14  @FoxNews @MZHemingway @realDonaldTrump Can we ...\\n15  RT @SenatorCantwell: Last week, I demanded @re...\\n16  RT @JohnJohnpitt11: @JohnellU @DonnaWR8 @realD...\\n17  @parscale @Acosta @realDonaldTrump The Chump s...\\n18  Despite what @SenSchumer claims, the #NoKoSumm...\\n19  @AceHa @Hawaiianbryan_ @realDonaldTrump I’m su...\\n20  @Nic6454 @realDonaldTrump Everyone I talk to w...\", \"                                               Tweets\\n0   RT @sergiobolzoni: Leggo di gente che esulta p...\\n1   @xtrixcyclex @establishmentno @The_Trump_Train...\\n2   RT @DougSides: 😡 Jim Acosta not only risked na...\\n3   @realDonaldTrump @WhiteHouse https://t.co/11Pc...\\n4   México necesita lideres como @realDonaldTrump ...\\n5   @GovMikeHuckabee @POTUS @realDonaldTrump You a...\\n6   @xtrixcyclex @dodgetrucks218 @The_Trump_Train ...\\n7   RT @tedlieu: Dear @realDonaldTrump: I served o...\\n8   RT @The_Trump_Train: @realDonaldTrump I don’t ...\\n9   @Elightman @parscale @Acosta @realDonaldTrump ...\\n10  RT @EpochTimes: Thousands Suspected of Child S...\\n11  @realDonaldTrump That's because they are not o...\\n12  RT @AMErikaNGIRLBOT: Watch⬇️ Justin Trudeau’s ...\\n13  @realDonaldTrump Dear God people we should all...\\n14  @FoxNews @MZHemingway @realDonaldTrump Can we ...\\n15  RT @SenatorCantwell: Last week, I demanded @re...\\n16  RT @JohnJohnpitt11: @JohnellU @DonnaWR8 @realD...\\n17  @parscale @Acosta @realDonaldTrump The Chump s...\\n18  Despite what @SenSchumer claims, the #NoKoSumm...\\n19  @AceHa @Hawaiianbryan_ @realDonaldTrump I’m su...\\n20  @Nic6454 @realDonaldTrump Everyone I talk to w...\", \"                                               Tweets\\n0   RT @sergiobolzoni: Leggo di gente che esulta p...\\n1   @xtrixcyclex @establishmentno @The_Trump_Train...\\n2   RT @DougSides: 😡 Jim Acosta not only risked na...\\n3   @realDonaldTrump @WhiteHouse https://t.co/11Pc...\\n4   México necesita lideres como @realDonaldTrump ...\\n5   @GovMikeHuckabee @POTUS @realDonaldTrump You a...\\n6   @xtrixcyclex @dodgetrucks218 @The_Trump_Train ...\\n7   RT @tedlieu: Dear @realDonaldTrump: I served o...\\n8   RT @The_Trump_Train: @realDonaldTrump I don’t ...\\n9   @Elightman @parscale @Acosta @realDonaldTrump ...\\n10  RT @EpochTimes: Thousands Suspected of Child S...\\n11  @realDonaldTrump That's because they are not o...\\n12  RT @AMErikaNGIRLBOT: Watch⬇️ Justin Trudeau’s ...\\n13  @realDonaldTrump Dear God people we should all...\\n14  @FoxNews @MZHemingway @realDonaldTrump Can we ...\\n15  RT @SenatorCantwell: Last week, I demanded @re...\\n16  RT @JohnJohnpitt11: @JohnellU @DonnaWR8 @realD...\\n17  @parscale @Acosta @realDonaldTrump The Chump s...\\n18  Despite what @SenSchumer claims, the #NoKoSumm...\\n19  @AceHa @Hawaiianbryan_ @realDonaldTrump I’m su...\\n20  @Nic6454 @realDonaldTrump Everyone I talk to w...\", \"                                               Tweets\\n0   RT @sergiobolzoni: Leggo di gente che esulta p...\\n1   @xtrixcyclex @establishmentno @The_Trump_Train...\\n2   RT @DougSides: 😡 Jim Acosta not only risked na...\\n3   @realDonaldTrump @WhiteHouse https://t.co/11Pc...\\n4   México necesita lideres como @realDonaldTrump ...\\n5   @GovMikeHuckabee @POTUS @realDonaldTrump You a...\\n6   @xtrixcyclex @dodgetrucks218 @The_Trump_Train ...\\n7   RT @tedlieu: Dear @realDonaldTrump: I served o...\\n8   RT @The_Trump_Train: @realDonaldTrump I don’t ...\\n9   @Elightman @parscale @Acosta @realDonaldTrump ...\\n10  RT @EpochTimes: Thousands Suspected of Child S...\\n11  @realDonaldTrump That's because they are not o...\\n12  RT @AMErikaNGIRLBOT: Watch⬇️ Justin Trudeau’s ...\\n13  @realDonaldTrump Dear God people we should all...\\n14  @FoxNews @MZHemingway @realDonaldTrump Can we ...\\n15  RT @SenatorCantwell: Last week, I demanded @re...\\n16  RT @JohnJohnpitt11: @JohnellU @DonnaWR8 @realD...\\n17  @parscale @Acosta @realDonaldTrump The Chump s...\\n18  Despite what @SenSchumer claims, the #NoKoSumm...\\n19  @AceHa @Hawaiianbryan_ @realDonaldTrump I’m su...\\n20  @Nic6454 @realDonaldTrump Everyone I talk to w...\", \"                                               Tweets\\n0   RT @sergiobolzoni: Leggo di gente che esulta p...\\n1   @xtrixcyclex @establishmentno @The_Trump_Train...\\n2   RT @DougSides: 😡 Jim Acosta not only risked na...\\n3   @realDonaldTrump @WhiteHouse https://t.co/11Pc...\\n4   México necesita lideres como @realDonaldTrump ...\\n5   @GovMikeHuckabee @POTUS @realDonaldTrump You a...\\n6   @xtrixcyclex @dodgetrucks218 @The_Trump_Train ...\\n7   RT @tedlieu: Dear @realDonaldTrump: I served o...\\n8   RT @The_Trump_Train: @realDonaldTrump I don’t ...\\n9   @Elightman @parscale @Acosta @realDonaldTrump ...\\n10  RT @EpochTimes: Thousands Suspected of Child S...\\n11  @realDonaldTrump That's because they are not o...\\n12  RT @AMErikaNGIRLBOT: Watch⬇️ Justin Trudeau’s ...\\n13  @realDonaldTrump Dear God people we should all...\\n14  @FoxNews @MZHemingway @realDonaldTrump Can we ...\\n15  RT @SenatorCantwell: Last week, I demanded @re...\\n16  RT @JohnJohnpitt11: @JohnellU @DonnaWR8 @realD...\\n17  @parscale @Acosta @realDonaldTrump The Chump s...\\n18  Despite what @SenSchumer claims, the #NoKoSumm...\\n19  @AceHa @Hawaiianbryan_ @realDonaldTrump I’m su...\\n20  @Nic6454 @realDonaldTrump Everyone I talk to w...\", \"                                               Tweets\\n0   RT @sergiobolzoni: Leggo di gente che esulta p...\\n1   @xtrixcyclex @establishmentno @The_Trump_Train...\\n2   RT @DougSides: 😡 Jim Acosta not only risked na...\\n3   @realDonaldTrump @WhiteHouse https://t.co/11Pc...\\n4   México necesita lideres como @realDonaldTrump ...\\n5   @GovMikeHuckabee @POTUS @realDonaldTrump You a...\\n6   @xtrixcyclex @dodgetrucks218 @The_Trump_Train ...\\n7   RT @tedlieu: Dear @realDonaldTrump: I served o...\\n8   RT @The_Trump_Train: @realDonaldTrump I don’t ...\\n9   @Elightman @parscale @Acosta @realDonaldTrump ...\\n10  RT @EpochTimes: Thousands Suspected of Child S...\\n11  @realDonaldTrump That's because they are not o...\\n12  RT @AMErikaNGIRLBOT: Watch⬇️ Justin Trudeau’s ...\\n13  @realDonaldTrump Dear God people we should all...\\n14  @FoxNews @MZHemingway @realDonaldTrump Can we ...\\n15  RT @SenatorCantwell: Last week, I demanded @re...\\n16  RT @JohnJohnpitt11: @JohnellU @DonnaWR8 @realD...\\n17  @parscale @Acosta @realDonaldTrump The Chump s...\\n18  Despite what @SenSchumer claims, the #NoKoSumm...\\n19  @AceHa @Hawaiianbryan_ @realDonaldTrump I’m su...\\n20  @Nic6454 @realDonaldTrump Everyone I talk to w...\", \"                                               Tweets\\n0   RT @sergiobolzoni: Leggo di gente che esulta p...\\n1   @xtrixcyclex @establishmentno @The_Trump_Train...\\n2   RT @DougSides: 😡 Jim Acosta not only risked na...\\n3   @realDonaldTrump @WhiteHouse https://t.co/11Pc...\\n4   México necesita lideres como @realDonaldTrump ...\\n5   @GovMikeHuckabee @POTUS @realDonaldTrump You a...\\n6   @xtrixcyclex @dodgetrucks218 @The_Trump_Train ...\\n7   RT @tedlieu: Dear @realDonaldTrump: I served o...\\n8   RT @The_Trump_Train: @realDonaldTrump I don’t ...\\n9   @Elightman @parscale @Acosta @realDonaldTrump ...\\n10  RT @EpochTimes: Thousands Suspected of Child S...\\n11  @realDonaldTrump That's because they are not o...\\n12  RT @AMErikaNGIRLBOT: Watch⬇️ Justin Trudeau’s ...\\n13  @realDonaldTrump Dear God people we should all...\\n14  @FoxNews @MZHemingway @realDonaldTrump Can we ...\\n15  RT @SenatorCantwell: Last week, I demanded @re...\\n16  RT @JohnJohnpitt11: @JohnellU @DonnaWR8 @realD...\\n17  @parscale @Acosta @realDonaldTrump The Chump s...\\n18  Despite what @SenSchumer claims, the #NoKoSumm...\\n19  @AceHa @Hawaiianbryan_ @realDonaldTrump I’m su...\\n20  @Nic6454 @realDonaldTrump Everyone I talk to w...\", \"                                               Tweets\\n0   RT @sergiobolzoni: Leggo di gente che esulta p...\\n1   @xtrixcyclex @establishmentno @The_Trump_Train...\\n2   RT @DougSides: 😡 Jim Acosta not only risked na...\\n3   @realDonaldTrump @WhiteHouse https://t.co/11Pc...\\n4   México necesita lideres como @realDonaldTrump ...\\n5   @GovMikeHuckabee @POTUS @realDonaldTrump You a...\\n6   @xtrixcyclex @dodgetrucks218 @The_Trump_Train ...\\n7   RT @tedlieu: Dear @realDonaldTrump: I served o...\\n8   RT @The_Trump_Train: @realDonaldTrump I don’t ...\\n9   @Elightman @parscale @Acosta @realDonaldTrump ...\\n10  RT @EpochTimes: Thousands Suspected of Child S...\\n11  @realDonaldTrump That's because they are not o...\\n12  RT @AMErikaNGIRLBOT: Watch⬇️ Justin Trudeau’s ...\\n13  @realDonaldTrump Dear God people we should all...\\n14  @FoxNews @MZHemingway @realDonaldTrump Can we ...\\n15  RT @SenatorCantwell: Last week, I demanded @re...\\n16  RT @JohnJohnpitt11: @JohnellU @DonnaWR8 @realD...\\n17  @parscale @Acosta @realDonaldTrump The Chump s...\\n18  Despite what @SenSchumer claims, the #NoKoSumm...\\n19  @AceHa @Hawaiianbryan_ @realDonaldTrump I’m su...\\n20  @Nic6454 @realDonaldTrump Everyone I talk to w...\", \"                                               Tweets\\n0   RT @sergiobolzoni: Leggo di gente che esulta p...\\n1   @xtrixcyclex @establishmentno @The_Trump_Train...\\n2   RT @DougSides: 😡 Jim Acosta not only risked na...\\n3   @realDonaldTrump @WhiteHouse https://t.co/11Pc...\\n4   México necesita lideres como @realDonaldTrump ...\\n5   @GovMikeHuckabee @POTUS @realDonaldTrump You a...\\n6   @xtrixcyclex @dodgetrucks218 @The_Trump_Train ...\\n7   RT @tedlieu: Dear @realDonaldTrump: I served o...\\n8   RT @The_Trump_Train: @realDonaldTrump I don’t ...\\n9   @Elightman @parscale @Acosta @realDonaldTrump ...\\n10  RT @EpochTimes: Thousands Suspected of Child S...\\n11  @realDonaldTrump That's because they are not o...\\n12  RT @AMErikaNGIRLBOT: Watch⬇️ Justin Trudeau’s ...\\n13  @realDonaldTrump Dear God people we should all...\\n14  @FoxNews @MZHemingway @realDonaldTrump Can we ...\\n15  RT @SenatorCantwell: Last week, I demanded @re...\\n16  RT @JohnJohnpitt11: @JohnellU @DonnaWR8 @realD...\\n17  @parscale @Acosta @realDonaldTrump The Chump s...\\n18  Despite what @SenSchumer claims, the #NoKoSumm...\\n19  @AceHa @Hawaiianbryan_ @realDonaldTrump I’m su...\\n20  @Nic6454 @realDonaldTrump Everyone I talk to w...\", \"                                               Tweets\\n0   RT @sergiobolzoni: Leggo di gente che esulta p...\\n1   @xtrixcyclex @establishmentno @The_Trump_Train...\\n2   RT @DougSides: 😡 Jim Acosta not only risked na...\\n3   @realDonaldTrump @WhiteHouse https://t.co/11Pc...\\n4   México necesita lideres como @realDonaldTrump ...\\n5   @GovMikeHuckabee @POTUS @realDonaldTrump You a...\\n6   @xtrixcyclex @dodgetrucks218 @The_Trump_Train ...\\n7   RT @tedlieu: Dear @realDonaldTrump: I served o...\\n8   RT @The_Trump_Train: @realDonaldTrump I don’t ...\\n9   @Elightman @parscale @Acosta @realDonaldTrump ...\\n10  RT @EpochTimes: Thousands Suspected of Child S...\\n11  @realDonaldTrump That's because they are not o...\\n12  RT @AMErikaNGIRLBOT: Watch⬇️ Justin Trudeau’s ...\\n13  @realDonaldTrump Dear God people we should all...\\n14  @FoxNews @MZHemingway @realDonaldTrump Can we ...\\n15  RT @SenatorCantwell: Last week, I demanded @re...\\n16  RT @JohnJohnpitt11: @JohnellU @DonnaWR8 @realD...\\n17  @parscale @Acosta @realDonaldTrump The Chump s...\\n18  Despite what @SenSchumer claims, the #NoKoSumm...\\n19  @AceHa @Hawaiianbryan_ @realDonaldTrump I’m su...\\n20  @Nic6454 @realDonaldTrump Everyone I talk to w...\", \"                                               Tweets\\n0   RT @sergiobolzoni: Leggo di gente che esulta p...\\n1   @xtrixcyclex @establishmentno @The_Trump_Train...\\n2   RT @DougSides: 😡 Jim Acosta not only risked na...\\n3   @realDonaldTrump @WhiteHouse https://t.co/11Pc...\\n4   México necesita lideres como @realDonaldTrump ...\\n5   @GovMikeHuckabee @POTUS @realDonaldTrump You a...\\n6   @xtrixcyclex @dodgetrucks218 @The_Trump_Train ...\\n7   RT @tedlieu: Dear @realDonaldTrump: I served o...\\n8   RT @The_Trump_Train: @realDonaldTrump I don’t ...\\n9   @Elightman @parscale @Acosta @realDonaldTrump ...\\n10  RT @EpochTimes: Thousands Suspected of Child S...\\n11  @realDonaldTrump That's because they are not o...\\n12  RT @AMErikaNGIRLBOT: Watch⬇️ Justin Trudeau’s ...\\n13  @realDonaldTrump Dear God people we should all...\\n14  @FoxNews @MZHemingway @realDonaldTrump Can we ...\\n15  RT @SenatorCantwell: Last week, I demanded @re...\\n16  RT @JohnJohnpitt11: @JohnellU @DonnaWR8 @realD...\\n17  @parscale @Acosta @realDonaldTrump The Chump s...\\n18  Despite what @SenSchumer claims, the #NoKoSumm...\\n19  @AceHa @Hawaiianbryan_ @realDonaldTrump I’m su...\\n20  @Nic6454 @realDonaldTrump Everyone I talk to w...\", \"                                               Tweets\\n0   RT @sergiobolzoni: Leggo di gente che esulta p...\\n1   @xtrixcyclex @establishmentno @The_Trump_Train...\\n2   RT @DougSides: 😡 Jim Acosta not only risked na...\\n3   @realDonaldTrump @WhiteHouse https://t.co/11Pc...\\n4   México necesita lideres como @realDonaldTrump ...\\n5   @GovMikeHuckabee @POTUS @realDonaldTrump You a...\\n6   @xtrixcyclex @dodgetrucks218 @The_Trump_Train ...\\n7   RT @tedlieu: Dear @realDonaldTrump: I served o...\\n8   RT @The_Trump_Train: @realDonaldTrump I don’t ...\\n9   @Elightman @parscale @Acosta @realDonaldTrump ...\\n10  RT @EpochTimes: Thousands Suspected of Child S...\\n11  @realDonaldTrump That's because they are not o...\\n12  RT @AMErikaNGIRLBOT: Watch⬇️ Justin Trudeau’s ...\\n13  @realDonaldTrump Dear God people we should all...\\n14  @FoxNews @MZHemingway @realDonaldTrump Can we ...\\n15  RT @SenatorCantwell: Last week, I demanded @re...\\n16  RT @JohnJohnpitt11: @JohnellU @DonnaWR8 @realD...\\n17  @parscale @Acosta @realDonaldTrump The Chump s...\\n18  Despite what @SenSchumer claims, the #NoKoSumm...\\n19  @AceHa @Hawaiianbryan_ @realDonaldTrump I’m su...\\n20  @Nic6454 @realDonaldTrump Everyone I talk to w...\", \"                                               Tweets\\n0   RT @sergiobolzoni: Leggo di gente che esulta p...\\n1   @xtrixcyclex @establishmentno @The_Trump_Train...\\n2   RT @DougSides: 😡 Jim Acosta not only risked na...\\n3   @realDonaldTrump @WhiteHouse https://t.co/11Pc...\\n4   México necesita lideres como @realDonaldTrump ...\\n5   @GovMikeHuckabee @POTUS @realDonaldTrump You a...\\n6   @xtrixcyclex @dodgetrucks218 @The_Trump_Train ...\\n7   RT @tedlieu: Dear @realDonaldTrump: I served o...\\n8   RT @The_Trump_Train: @realDonaldTrump I don’t ...\\n9   @Elightman @parscale @Acosta @realDonaldTrump ...\\n10  RT @EpochTimes: Thousands Suspected of Child S...\\n11  @realDonaldTrump That's because they are not o...\\n12  RT @AMErikaNGIRLBOT: Watch⬇️ Justin Trudeau’s ...\\n13  @realDonaldTrump Dear God people we should all...\\n14  @FoxNews @MZHemingway @realDonaldTrump Can we ...\\n15  RT @SenatorCantwell: Last week, I demanded @re...\\n16  RT @JohnJohnpitt11: @JohnellU @DonnaWR8 @realD...\\n17  @parscale @Acosta @realDonaldTrump The Chump s...\\n18  Despite what @SenSchumer claims, the #NoKoSumm...\\n19  @AceHa @Hawaiianbryan_ @realDonaldTrump I’m su...\\n20  @Nic6454 @realDonaldTrump Everyone I talk to w...\", \"                                               Tweets\\n0   RT @sergiobolzoni: Leggo di gente che esulta p...\\n1   @xtrixcyclex @establishmentno @The_Trump_Train...\\n2   RT @DougSides: 😡 Jim Acosta not only risked na...\\n3   @realDonaldTrump @WhiteHouse https://t.co/11Pc...\\n4   México necesita lideres como @realDonaldTrump ...\\n5   @GovMikeHuckabee @POTUS @realDonaldTrump You a...\\n6   @xtrixcyclex @dodgetrucks218 @The_Trump_Train ...\\n7   RT @tedlieu: Dear @realDonaldTrump: I served o...\\n8   RT @The_Trump_Train: @realDonaldTrump I don’t ...\\n9   @Elightman @parscale @Acosta @realDonaldTrump ...\\n10  RT @EpochTimes: Thousands Suspected of Child S...\\n11  @realDonaldTrump That's because they are not o...\\n12  RT @AMErikaNGIRLBOT: Watch⬇️ Justin Trudeau’s ...\\n13  @realDonaldTrump Dear God people we should all...\\n14  @FoxNews @MZHemingway @realDonaldTrump Can we ...\\n15  RT @SenatorCantwell: Last week, I demanded @re...\\n16  RT @JohnJohnpitt11: @JohnellU @DonnaWR8 @realD...\\n17  @parscale @Acosta @realDonaldTrump The Chump s...\\n18  Despite what @SenSchumer claims, the #NoKoSumm...\\n19  @AceHa @Hawaiianbryan_ @realDonaldTrump I’m su...\\n20  @Nic6454 @realDonaldTrump Everyone I talk to w...\"]\n"
     ]
    }
   ],
   "source": [
    "print(li)"
   ]
  },
  {
   "cell_type": "code",
   "execution_count": 60,
   "metadata": {},
   "outputs": [],
   "source": [
    "pos_tweets = [ tweet for index, tweet in enumerate(data['Tweets']) if data['SA'][index] > 0]\n",
    "neu_tweets = [ tweet for index, tweet in enumerate(data['Tweets']) if data['SA'][index] == 0]\n",
    "neg_tweets = [ tweet for index, tweet in enumerate(data['Tweets']) if data['SA'][index] < 0]"
   ]
  },
  {
   "cell_type": "code",
   "execution_count": 61,
   "metadata": {},
   "outputs": [
    {
     "name": "stdout",
     "output_type": "stream",
     "text": [
      "Percentage of positive tweets: 33.0%\n",
      "Percentage of neutral tweets: 50.0%\n",
      "Percentage de negative tweets: 17.0%\n"
     ]
    }
   ],
   "source": [
    "print(\"Percentage of positive tweets: {}%\".format(len(pos_tweets)*100/len(data['Tweets'])))\n",
    "print(\"Percentage of neutral tweets: {}%\".format(len(neu_tweets)*100/len(data['Tweets'])))\n",
    "print(\"Percentage de negative tweets: {}%\".format(len(neg_tweets)*100/len(data['Tweets'])))"
   ]
  },
  {
   "cell_type": "code",
   "execution_count": null,
   "metadata": {},
   "outputs": [],
   "source": []
  },
  {
   "cell_type": "code",
   "execution_count": null,
   "metadata": {},
   "outputs": [],
   "source": []
  }
 ],
 "metadata": {
  "kernelspec": {
   "display_name": "Python 3",
   "language": "python",
   "name": "python3"
  },
  "language_info": {
   "codemirror_mode": {
    "name": "ipython",
    "version": 3
   },
   "file_extension": ".py",
   "mimetype": "text/x-python",
   "name": "python",
   "nbconvert_exporter": "python",
   "pygments_lexer": "ipython3",
   "version": "3.5.5"
  }
 },
 "nbformat": 4,
 "nbformat_minor": 2
}
