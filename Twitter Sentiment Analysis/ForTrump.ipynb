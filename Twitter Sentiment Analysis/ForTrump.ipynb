{
 "cells": [
  {
   "cell_type": "code",
   "execution_count": 25,
   "metadata": {},
   "outputs": [],
   "source": [
    "import tweepy          \n",
    "import pandas as pd\n",
    "import numpy as np\n",
    "\n",
    "from textblob import TextBlob\n",
    "import re\n",
    "\n",
    "\n",
    "from IPython.display import display\n",
    "import matplotlib.pyplot as plt\n",
    "import seaborn as sns\n",
    "%matplotlib inline"
   ]
  },
  {
   "cell_type": "code",
   "execution_count": 26,
   "metadata": {},
   "outputs": [],
   "source": [
    "# Consume:\n",
    "CONSUMER_KEY    = \"KhtiptQ5gtUfx0V5DCnMCeXYI\"\n",
    "CONSUMER_SECRET = \"Em9afXhUezobaiZp2WWsGgCpyxiDSCgvrrap3yuDB8jiF3g9LQ\"\n",
    "\n",
    "# Access:\n",
    "ACCESS_TOKEN  = \"2851590678-AQWVYMvV4MGZBK15e4soQvfOR25s4cW1LL2Uuj0\"\n",
    "ACCESS_SECRET = \"36dPZh8EHIVuCzaprbBYaDQUruYFr4fEHKIxtrDnPttgL\""
   ]
  },
  {
   "cell_type": "code",
   "execution_count": 27,
   "metadata": {},
   "outputs": [],
   "source": [
    "def twitter_setup():\n",
    "    # Will  return an authenticated api\n",
    "    \n",
    "    # Authentication and access using keys:\n",
    "    auth = tweepy.OAuthHandler(CONSUMER_KEY, CONSUMER_SECRET)\n",
    "    auth.set_access_token(ACCESS_TOKEN, ACCESS_SECRET)\n",
    "\n",
    "    # Return API with authentication:\n",
    "    api = tweepy.API(auth)\n",
    "    return api"
   ]
  },
  {
   "cell_type": "code",
   "execution_count": 28,
   "metadata": {},
   "outputs": [
    {
     "name": "stdout",
     "output_type": "stream",
     "text": [
      "Number of tweets extracted: 200.\n",
      "\n",
      "5 recent tweets:\n",
      "\n",
      "https://t.co/tJG3KIn2q0\n",
      "\n",
      "Our Great Larry Kudlow, who has been working so hard on trade and the economy, has just suffered a heart attack. He… https://t.co/P4sfstikaa\n",
      "\n",
      "Just won big Supreme Court decision on Voting! Great News!\n",
      "\n",
      "The fact that I am having a meeting is a major loss for the U.S., say the haters &amp; losers. We have our hostages, te… https://t.co/9bI2JtzCMx\n",
      "\n",
      "Stock Market up almost 40% since the Election, with 7 Trillion Dollars of U.S. value built throughout the economy.… https://t.co/MtbGybefkO\n",
      "\n"
     ]
    }
   ],
   "source": [
    "extractor = twitter_setup()\n",
    "\n",
    "\n",
    "tweets = extractor.user_timeline(screen_name=\"realDonaldTrump\", count=200)\n",
    "print(\"Number of tweets extracted: {}.\\n\".format(len(tweets)))\n",
    "\n",
    "\n",
    "print(\"5 recent tweets:\\n\")\n",
    "for tweet in tweets[:5]:\n",
    "    print(tweet.text)\n",
    "    print()\n"
   ]
  },
  {
   "cell_type": "code",
   "execution_count": 29,
   "metadata": {},
   "outputs": [
    {
     "data": {
      "text/html": [
       "<div>\n",
       "<style scoped>\n",
       "    .dataframe tbody tr th:only-of-type {\n",
       "        vertical-align: middle;\n",
       "    }\n",
       "\n",
       "    .dataframe tbody tr th {\n",
       "        vertical-align: top;\n",
       "    }\n",
       "\n",
       "    .dataframe thead th {\n",
       "        text-align: right;\n",
       "    }\n",
       "</style>\n",
       "<table border=\"1\" class=\"dataframe\">\n",
       "  <thead>\n",
       "    <tr style=\"text-align: right;\">\n",
       "      <th></th>\n",
       "      <th>Tweets</th>\n",
       "    </tr>\n",
       "  </thead>\n",
       "  <tbody>\n",
       "    <tr>\n",
       "      <th>0</th>\n",
       "      <td>https://t.co/tJG3KIn2q0</td>\n",
       "    </tr>\n",
       "    <tr>\n",
       "      <th>1</th>\n",
       "      <td>Our Great Larry Kudlow, who has been working s...</td>\n",
       "    </tr>\n",
       "    <tr>\n",
       "      <th>2</th>\n",
       "      <td>Just won big Supreme Court decision on Voting!...</td>\n",
       "    </tr>\n",
       "    <tr>\n",
       "      <th>3</th>\n",
       "      <td>The fact that I am having a meeting is a major...</td>\n",
       "    </tr>\n",
       "    <tr>\n",
       "      <th>4</th>\n",
       "      <td>Stock Market up almost 40% since the Election,...</td>\n",
       "    </tr>\n",
       "    <tr>\n",
       "      <th>5</th>\n",
       "      <td>Meetings between staffs and representatives ar...</td>\n",
       "    </tr>\n",
       "    <tr>\n",
       "      <th>6</th>\n",
       "      <td>Thank you Prime Minister Lee Hsien Loong! http...</td>\n",
       "    </tr>\n",
       "    <tr>\n",
       "      <th>7</th>\n",
       "      <td>Sorry, we cannot let our friends, or enemies, ...</td>\n",
       "    </tr>\n",
       "    <tr>\n",
       "      <th>8</th>\n",
       "      <td>Great to be in Singapore, excitement in the air!</td>\n",
       "    </tr>\n",
       "    <tr>\n",
       "      <th>9</th>\n",
       "      <td>....Germany pays 1% (slowly) of GDP towards NA...</td>\n",
       "    </tr>\n",
       "  </tbody>\n",
       "</table>\n",
       "</div>"
      ],
      "text/plain": [
       "                                              Tweets\n",
       "0                            https://t.co/tJG3KIn2q0\n",
       "1  Our Great Larry Kudlow, who has been working s...\n",
       "2  Just won big Supreme Court decision on Voting!...\n",
       "3  The fact that I am having a meeting is a major...\n",
       "4  Stock Market up almost 40% since the Election,...\n",
       "5  Meetings between staffs and representatives ar...\n",
       "6  Thank you Prime Minister Lee Hsien Loong! http...\n",
       "7  Sorry, we cannot let our friends, or enemies, ...\n",
       "8   Great to be in Singapore, excitement in the air!\n",
       "9  ....Germany pays 1% (slowly) of GDP towards NA..."
      ]
     },
     "metadata": {},
     "output_type": "display_data"
    }
   ],
   "source": [
    "\n",
    "data = pd.DataFrame(data=[tweet.text for tweet in tweets], columns=['Tweets'])\n",
    "\n",
    "\n",
    "display(data.head(10))\n"
   ]
  },
  {
   "cell_type": "code",
   "execution_count": 30,
   "metadata": {},
   "outputs": [
    {
     "name": "stdout",
     "output_type": "stream",
     "text": [
      "['__class__', '__delattr__', '__dict__', '__dir__', '__doc__', '__eq__', '__format__', '__ge__', '__getattribute__', '__getstate__', '__gt__', '__hash__', '__init__', '__le__', '__lt__', '__module__', '__ne__', '__new__', '__reduce__', '__reduce_ex__', '__repr__', '__setattr__', '__sizeof__', '__str__', '__subclasshook__', '__weakref__', '_api', '_json', 'author', 'contributors', 'coordinates', 'created_at', 'destroy', 'entities', 'extended_entities', 'favorite', 'favorite_count', 'favorited', 'geo', 'id', 'id_str', 'in_reply_to_screen_name', 'in_reply_to_status_id', 'in_reply_to_status_id_str', 'in_reply_to_user_id', 'in_reply_to_user_id_str', 'is_quote_status', 'lang', 'parse', 'parse_list', 'place', 'possibly_sensitive', 'retweet', 'retweet_count', 'retweeted', 'retweets', 'source', 'source_url', 'text', 'truncated', 'user']\n"
     ]
    }
   ],
   "source": [
    "print(dir(tweets[0]))"
   ]
  },
  {
   "cell_type": "code",
   "execution_count": 31,
   "metadata": {},
   "outputs": [],
   "source": [
    "data['len']  = np.array([len(tweet.text) for tweet in tweets])\n",
    "data['ID']   = np.array([tweet.id for tweet in tweets])\n",
    "data['Date'] = np.array([tweet.created_at for tweet in tweets])\n",
    "#data['Source'] = np.array([tweet.source for tweet in tweets])\n",
    "data['Likes']  = np.array([tweet.favorite_count for tweet in tweets])\n",
    "data['RTs']    = np.array([tweet.retweet_count for tweet in tweets])"
   ]
  },
  {
   "cell_type": "code",
   "execution_count": 32,
   "metadata": {},
   "outputs": [
    {
     "data": {
      "text/html": [
       "<div>\n",
       "<style scoped>\n",
       "    .dataframe tbody tr th:only-of-type {\n",
       "        vertical-align: middle;\n",
       "    }\n",
       "\n",
       "    .dataframe tbody tr th {\n",
       "        vertical-align: top;\n",
       "    }\n",
       "\n",
       "    .dataframe thead th {\n",
       "        text-align: right;\n",
       "    }\n",
       "</style>\n",
       "<table border=\"1\" class=\"dataframe\">\n",
       "  <thead>\n",
       "    <tr style=\"text-align: right;\">\n",
       "      <th></th>\n",
       "      <th>Tweets</th>\n",
       "      <th>len</th>\n",
       "      <th>ID</th>\n",
       "      <th>Date</th>\n",
       "      <th>Likes</th>\n",
       "      <th>RTs</th>\n",
       "    </tr>\n",
       "  </thead>\n",
       "  <tbody>\n",
       "    <tr>\n",
       "      <th>0</th>\n",
       "      <td>https://t.co/tJG3KIn2q0</td>\n",
       "      <td>23</td>\n",
       "      <td>1006446738016755712</td>\n",
       "      <td>2018-06-12 08:02:55</td>\n",
       "      <td>110529</td>\n",
       "      <td>32543</td>\n",
       "    </tr>\n",
       "    <tr>\n",
       "      <th>1</th>\n",
       "      <td>Our Great Larry Kudlow, who has been working s...</td>\n",
       "      <td>140</td>\n",
       "      <td>1006334219759575040</td>\n",
       "      <td>2018-06-12 00:35:49</td>\n",
       "      <td>85385</td>\n",
       "      <td>23051</td>\n",
       "    </tr>\n",
       "    <tr>\n",
       "      <th>2</th>\n",
       "      <td>Just won big Supreme Court decision on Voting!...</td>\n",
       "      <td>58</td>\n",
       "      <td>1006326057375584261</td>\n",
       "      <td>2018-06-12 00:03:23</td>\n",
       "      <td>95346</td>\n",
       "      <td>19524</td>\n",
       "    </tr>\n",
       "    <tr>\n",
       "      <th>3</th>\n",
       "      <td>The fact that I am having a meeting is a major...</td>\n",
       "      <td>144</td>\n",
       "      <td>1006296018210603008</td>\n",
       "      <td>2018-06-11 22:04:01</td>\n",
       "      <td>127363</td>\n",
       "      <td>30274</td>\n",
       "    </tr>\n",
       "    <tr>\n",
       "      <th>4</th>\n",
       "      <td>Stock Market up almost 40% since the Election,...</td>\n",
       "      <td>139</td>\n",
       "      <td>1006293144911085568</td>\n",
       "      <td>2018-06-11 21:52:36</td>\n",
       "      <td>118390</td>\n",
       "      <td>28259</td>\n",
       "    </tr>\n",
       "    <tr>\n",
       "      <th>5</th>\n",
       "      <td>Meetings between staffs and representatives ar...</td>\n",
       "      <td>140</td>\n",
       "      <td>1006286790536323074</td>\n",
       "      <td>2018-06-11 21:27:21</td>\n",
       "      <td>91501</td>\n",
       "      <td>19359</td>\n",
       "    </tr>\n",
       "    <tr>\n",
       "      <th>6</th>\n",
       "      <td>Thank you Prime Minister Lee Hsien Loong! http...</td>\n",
       "      <td>65</td>\n",
       "      <td>1006081372912484353</td>\n",
       "      <td>2018-06-11 07:51:06</td>\n",
       "      <td>80904</td>\n",
       "      <td>18171</td>\n",
       "    </tr>\n",
       "    <tr>\n",
       "      <th>7</th>\n",
       "      <td>Sorry, we cannot let our friends, or enemies, ...</td>\n",
       "      <td>123</td>\n",
       "      <td>1006003345360908295</td>\n",
       "      <td>2018-06-11 02:41:02</td>\n",
       "      <td>145676</td>\n",
       "      <td>32105</td>\n",
       "    </tr>\n",
       "    <tr>\n",
       "      <th>8</th>\n",
       "      <td>Great to be in Singapore, excitement in the air!</td>\n",
       "      <td>48</td>\n",
       "      <td>1005989290520739845</td>\n",
       "      <td>2018-06-11 01:45:11</td>\n",
       "      <td>107700</td>\n",
       "      <td>20922</td>\n",
       "    </tr>\n",
       "    <tr>\n",
       "      <th>9</th>\n",
       "      <td>....Germany pays 1% (slowly) of GDP towards NA...</td>\n",
       "      <td>140</td>\n",
       "      <td>1005988633747312640</td>\n",
       "      <td>2018-06-11 01:42:35</td>\n",
       "      <td>132168</td>\n",
       "      <td>32211</td>\n",
       "    </tr>\n",
       "  </tbody>\n",
       "</table>\n",
       "</div>"
      ],
      "text/plain": [
       "                                              Tweets  len  \\\n",
       "0                            https://t.co/tJG3KIn2q0   23   \n",
       "1  Our Great Larry Kudlow, who has been working s...  140   \n",
       "2  Just won big Supreme Court decision on Voting!...   58   \n",
       "3  The fact that I am having a meeting is a major...  144   \n",
       "4  Stock Market up almost 40% since the Election,...  139   \n",
       "5  Meetings between staffs and representatives ar...  140   \n",
       "6  Thank you Prime Minister Lee Hsien Loong! http...   65   \n",
       "7  Sorry, we cannot let our friends, or enemies, ...  123   \n",
       "8   Great to be in Singapore, excitement in the air!   48   \n",
       "9  ....Germany pays 1% (slowly) of GDP towards NA...  140   \n",
       "\n",
       "                    ID                Date   Likes    RTs  \n",
       "0  1006446738016755712 2018-06-12 08:02:55  110529  32543  \n",
       "1  1006334219759575040 2018-06-12 00:35:49   85385  23051  \n",
       "2  1006326057375584261 2018-06-12 00:03:23   95346  19524  \n",
       "3  1006296018210603008 2018-06-11 22:04:01  127363  30274  \n",
       "4  1006293144911085568 2018-06-11 21:52:36  118390  28259  \n",
       "5  1006286790536323074 2018-06-11 21:27:21   91501  19359  \n",
       "6  1006081372912484353 2018-06-11 07:51:06   80904  18171  \n",
       "7  1006003345360908295 2018-06-11 02:41:02  145676  32105  \n",
       "8  1005989290520739845 2018-06-11 01:45:11  107700  20922  \n",
       "9  1005988633747312640 2018-06-11 01:42:35  132168  32211  "
      ]
     },
     "metadata": {},
     "output_type": "display_data"
    }
   ],
   "source": [
    "display(data.head(10))"
   ]
  },
  {
   "cell_type": "code",
   "execution_count": 33,
   "metadata": {},
   "outputs": [
    {
     "name": "stdout",
     "output_type": "stream",
     "text": [
      "The lenght's average in tweets: 124.525\n"
     ]
    }
   ],
   "source": [
    "\n",
    "mean = np.mean(data['len'])\n",
    "\n",
    "print(\"The lenght's average in tweets: {}\".format(mean))\n"
   ]
  },
  {
   "cell_type": "code",
   "execution_count": 35,
   "metadata": {},
   "outputs": [
    {
     "name": "stdout",
     "output_type": "stream",
     "text": [
      "The tweet with more likes is: \n",
      "Bob Iger of ABC called Valerie Jarrett to let her know that “ABC does not tolerate comments like those” made by Ros… https://t.co/6mbr4M5sW2\n",
      "Number of likes: 164388\n",
      "140 characters.\n",
      "\n",
      "The tweet with more retweets is: \n",
      "Bob Iger of ABC called Valerie Jarrett to let her know that “ABC does not tolerate comments like those” made by Ros… https://t.co/6mbr4M5sW2\n",
      "Number of retweets: 45488\n",
      "140 characters.\n",
      "\n"
     ]
    }
   ],
   "source": [
    "fav_max = np.max(data['Likes'])\n",
    "rt_max  = np.max(data['RTs'])\n",
    "\n",
    "fav = data[data.Likes == fav_max].index[0]\n",
    "rt  = data[data.RTs == rt_max].index[0]\n",
    "\n",
    "# Max FAVs:\n",
    "print(\"The tweet with more likes is: \\n{}\".format(data['Tweets'][fav]))\n",
    "print(\"Number of likes: {}\".format(fav_max))\n",
    "print(\"{} characters.\\n\".format(data['len'][fav]))\n",
    "\n",
    "# Max RTs:\n",
    "print(\"The tweet with more retweets is: \\n{}\".format(data['Tweets'][rt]))\n",
    "print(\"Number of retweets: {}\".format(rt_max))\n",
    "print(\"{} characters.\\n\".format(data['len'][rt]))"
   ]
  },
  {
   "cell_type": "code",
   "execution_count": 36,
   "metadata": {},
   "outputs": [],
   "source": [
    "tlen = pd.Series(data=data['len'].values, index=data['Date'])\n",
    "tfav = pd.Series(data=data['Likes'].values, index=data['Date'])\n",
    "tret = pd.Series(data=data['RTs'].values, index=data['Date'])"
   ]
  },
  {
   "cell_type": "code",
   "execution_count": 37,
   "metadata": {},
   "outputs": [
    {
     "data": {
      "image/png": "[encoded data removed]",
      "text/plain": [
       "<Figure size 1152x288 with 1 Axes>"
      ]
     },
     "metadata": {},
     "output_type": "display_data"
    }
   ],
   "source": [
    "tlen.plot(figsize=(16,4), color='r');"
   ]
  },
  {
   "cell_type": "code",
   "execution_count": 38,
   "metadata": {},
   "outputs": [
    {
     "data": {
      "image/png": "[encoded data removed]",
      "text/plain": [
       "<Figure size 1152x288 with 1 Axes>"
      ]
     },
     "metadata": {},
     "output_type": "display_data"
    }
   ],
   "source": [
    "tfav.plot(figsize=(16,4), label=\"Likes\", legend=True)\n",
    "tret.plot(figsize=(16,4), label=\"Retweets\", legend=True);"
   ]
  },
  {
   "cell_type": "code",
   "execution_count": 39,
   "metadata": {},
   "outputs": [
    {
     "data": {
      "text/plain": [
       "'\\nsources = []\\nfor source in data[\\'Source\\']:\\n    if source not in sources:\\n        sources.append(source)\\n\\n\\nprint(\"Creation of content sources:\")\\nfor source in sources:\\n    print(\"* {}\".format(source))\\n'"
      ]
     },
     "execution_count": 39,
     "metadata": {},
     "output_type": "execute_result"
    }
   ],
   "source": [
    "\"\"\"\n",
    "sources = []\n",
    "for source in data['Source']:\n",
    "    if source not in sources:\n",
    "        sources.append(source)\n",
    "\n",
    "\n",
    "print(\"Creation of content sources:\")\n",
    "for source in sources:\n",
    "    print(\"* {}\".format(source))\n",
    "\"\"\""
   ]
  },
  {
   "cell_type": "code",
   "execution_count": 40,
   "metadata": {},
   "outputs": [
    {
     "data": {
      "text/plain": [
       "\"\\npercent = np.zeros(len(sources))\\n\\nfor source in data['Source']:\\n    for index in range(len(sources)):\\n        if source == sources[index]:\\n            percent[index] += 1\\n            pass\\n\\npercent /= 100\\n\\n\\npie_chart = pd.Series(percent, index=sources, name='Sources')\\npie_chart.plot.pie(fontsize=11, autopct='%.2f', figsize=(6, 6));\\n\""
      ]
     },
     "execution_count": 40,
     "metadata": {},
     "output_type": "execute_result"
    }
   ],
   "source": [
    "# We create a numpy vector mapped to labels:\n",
    "\"\"\"\n",
    "percent = np.zeros(len(sources))\n",
    "\n",
    "for source in data['Source']:\n",
    "    for index in range(len(sources)):\n",
    "        if source == sources[index]:\n",
    "            percent[index] += 1\n",
    "            pass\n",
    "\n",
    "percent /= 100\n",
    "\n",
    "\n",
    "pie_chart = pd.Series(percent, index=sources, name='Sources')\n",
    "pie_chart.plot.pie(fontsize=11, autopct='%.2f', figsize=(6, 6));\n",
    "\"\"\""
   ]
  },
  {
   "cell_type": "code",
   "execution_count": 41,
   "metadata": {},
   "outputs": [],
   "source": [
    "\n",
    "def clean_tweet(tweet):\n",
    "    '''\n",
    "    Utility function to clean the text in a tweet by removing \n",
    "    links and special characters using regex.\n",
    "    '''\n",
    "    return ' '.join(re.sub(\"(@[A-Za-z0-9]+)|([^0-9A-Za-z \\t])|(\\w+:\\/\\/\\S+)\", \" \", tweet).split())\n",
    "\n",
    "def analize_sentiment(tweet):\n",
    "    '''\n",
    "    Utility function to classify the polarity of a tweet\n",
    "    using textblob.\n",
    "    '''\n",
    "    analysis = TextBlob(clean_tweet(tweet))\n",
    "    if analysis.sentiment.polarity > 0:\n",
    "        return 1\n",
    "    elif analysis.sentiment.polarity == 0:\n",
    "        return 0\n",
    "    else:\n",
    "        return -1\n"
   ]
  },
  {
   "cell_type": "code",
   "execution_count": 42,
   "metadata": {},
   "outputs": [
    {
     "data": {
      "text/html": [
       "<div>\n",
       "<style scoped>\n",
       "    .dataframe tbody tr th:only-of-type {\n",
       "        vertical-align: middle;\n",
       "    }\n",
       "\n",
       "    .dataframe tbody tr th {\n",
       "        vertical-align: top;\n",
       "    }\n",
       "\n",
       "    .dataframe thead th {\n",
       "        text-align: right;\n",
       "    }\n",
       "</style>\n",
       "<table border=\"1\" class=\"dataframe\">\n",
       "  <thead>\n",
       "    <tr style=\"text-align: right;\">\n",
       "      <th></th>\n",
       "      <th>Tweets</th>\n",
       "      <th>len</th>\n",
       "      <th>ID</th>\n",
       "      <th>Date</th>\n",
       "      <th>Likes</th>\n",
       "      <th>RTs</th>\n",
       "      <th>SA</th>\n",
       "    </tr>\n",
       "  </thead>\n",
       "  <tbody>\n",
       "    <tr>\n",
       "      <th>0</th>\n",
       "      <td>https://t.co/tJG3KIn2q0</td>\n",
       "      <td>23</td>\n",
       "      <td>1006446738016755712</td>\n",
       "      <td>2018-06-12 08:02:55</td>\n",
       "      <td>110529</td>\n",
       "      <td>32543</td>\n",
       "      <td>0</td>\n",
       "    </tr>\n",
       "    <tr>\n",
       "      <th>1</th>\n",
       "      <td>Our Great Larry Kudlow, who has been working s...</td>\n",
       "      <td>140</td>\n",
       "      <td>1006334219759575040</td>\n",
       "      <td>2018-06-12 00:35:49</td>\n",
       "      <td>85385</td>\n",
       "      <td>23051</td>\n",
       "      <td>1</td>\n",
       "    </tr>\n",
       "    <tr>\n",
       "      <th>2</th>\n",
       "      <td>Just won big Supreme Court decision on Voting!...</td>\n",
       "      <td>58</td>\n",
       "      <td>1006326057375584261</td>\n",
       "      <td>2018-06-12 00:03:23</td>\n",
       "      <td>95346</td>\n",
       "      <td>19524</td>\n",
       "      <td>1</td>\n",
       "    </tr>\n",
       "    <tr>\n",
       "      <th>3</th>\n",
       "      <td>The fact that I am having a meeting is a major...</td>\n",
       "      <td>144</td>\n",
       "      <td>1006296018210603008</td>\n",
       "      <td>2018-06-11 22:04:01</td>\n",
       "      <td>127363</td>\n",
       "      <td>30274</td>\n",
       "      <td>-1</td>\n",
       "    </tr>\n",
       "    <tr>\n",
       "      <th>4</th>\n",
       "      <td>Stock Market up almost 40% since the Election,...</td>\n",
       "      <td>139</td>\n",
       "      <td>1006293144911085568</td>\n",
       "      <td>2018-06-11 21:52:36</td>\n",
       "      <td>118390</td>\n",
       "      <td>28259</td>\n",
       "      <td>0</td>\n",
       "    </tr>\n",
       "    <tr>\n",
       "      <th>5</th>\n",
       "      <td>Meetings between staffs and representatives ar...</td>\n",
       "      <td>140</td>\n",
       "      <td>1006286790536323074</td>\n",
       "      <td>2018-06-11 21:27:21</td>\n",
       "      <td>91501</td>\n",
       "      <td>19359</td>\n",
       "      <td>1</td>\n",
       "    </tr>\n",
       "    <tr>\n",
       "      <th>6</th>\n",
       "      <td>Thank you Prime Minister Lee Hsien Loong! http...</td>\n",
       "      <td>65</td>\n",
       "      <td>1006081372912484353</td>\n",
       "      <td>2018-06-11 07:51:06</td>\n",
       "      <td>80904</td>\n",
       "      <td>18171</td>\n",
       "      <td>0</td>\n",
       "    </tr>\n",
       "    <tr>\n",
       "      <th>7</th>\n",
       "      <td>Sorry, we cannot let our friends, or enemies, ...</td>\n",
       "      <td>123</td>\n",
       "      <td>1006003345360908295</td>\n",
       "      <td>2018-06-11 02:41:02</td>\n",
       "      <td>145676</td>\n",
       "      <td>32105</td>\n",
       "      <td>-1</td>\n",
       "    </tr>\n",
       "    <tr>\n",
       "      <th>8</th>\n",
       "      <td>Great to be in Singapore, excitement in the air!</td>\n",
       "      <td>48</td>\n",
       "      <td>1005989290520739845</td>\n",
       "      <td>2018-06-11 01:45:11</td>\n",
       "      <td>107700</td>\n",
       "      <td>20922</td>\n",
       "      <td>1</td>\n",
       "    </tr>\n",
       "    <tr>\n",
       "      <th>9</th>\n",
       "      <td>....Germany pays 1% (slowly) of GDP towards NA...</td>\n",
       "      <td>140</td>\n",
       "      <td>1005988633747312640</td>\n",
       "      <td>2018-06-11 01:42:35</td>\n",
       "      <td>132168</td>\n",
       "      <td>32211</td>\n",
       "      <td>-1</td>\n",
       "    </tr>\n",
       "  </tbody>\n",
       "</table>\n",
       "</div>"
      ],
      "text/plain": [
       "                                              Tweets  len  \\\n",
       "0                            https://t.co/tJG3KIn2q0   23   \n",
       "1  Our Great Larry Kudlow, who has been working s...  140   \n",
       "2  Just won big Supreme Court decision on Voting!...   58   \n",
       "3  The fact that I am having a meeting is a major...  144   \n",
       "4  Stock Market up almost 40% since the Election,...  139   \n",
       "5  Meetings between staffs and representatives ar...  140   \n",
       "6  Thank you Prime Minister Lee Hsien Loong! http...   65   \n",
       "7  Sorry, we cannot let our friends, or enemies, ...  123   \n",
       "8   Great to be in Singapore, excitement in the air!   48   \n",
       "9  ....Germany pays 1% (slowly) of GDP towards NA...  140   \n",
       "\n",
       "                    ID                Date   Likes    RTs  SA  \n",
       "0  1006446738016755712 2018-06-12 08:02:55  110529  32543   0  \n",
       "1  1006334219759575040 2018-06-12 00:35:49   85385  23051   1  \n",
       "2  1006326057375584261 2018-06-12 00:03:23   95346  19524   1  \n",
       "3  1006296018210603008 2018-06-11 22:04:01  127363  30274  -1  \n",
       "4  1006293144911085568 2018-06-11 21:52:36  118390  28259   0  \n",
       "5  1006286790536323074 2018-06-11 21:27:21   91501  19359   1  \n",
       "6  1006081372912484353 2018-06-11 07:51:06   80904  18171   0  \n",
       "7  1006003345360908295 2018-06-11 02:41:02  145676  32105  -1  \n",
       "8  1005989290520739845 2018-06-11 01:45:11  107700  20922   1  \n",
       "9  1005988633747312640 2018-06-11 01:42:35  132168  32211  -1  "
      ]
     },
     "metadata": {},
     "output_type": "display_data"
    }
   ],
   "source": [
    "# Column >> result\n",
    "data['SA'] = np.array([ analize_sentiment(tweet) for tweet in data['Tweets'] ])\n",
    "\n",
    "#display head again\n",
    "display(data.head(10))\n"
   ]
  },
  {
   "cell_type": "code",
   "execution_count": 43,
   "metadata": {},
   "outputs": [],
   "source": [
    "pos_tweets = [ tweet for index, tweet in enumerate(data['Tweets']) if data['SA'][index] > 0]\n",
    "neu_tweets = [ tweet for index, tweet in enumerate(data['Tweets']) if data['SA'][index] == 0]\n",
    "neg_tweets = [ tweet for index, tweet in enumerate(data['Tweets']) if data['SA'][index] < 0]"
   ]
  },
  {
   "cell_type": "code",
   "execution_count": 44,
   "metadata": {},
   "outputs": [
    {
     "name": "stdout",
     "output_type": "stream",
     "text": [
      "Percentage of positive tweets: 48.5%\n",
      "Percentage of neutral tweets: 30.5%\n",
      "Percentage de negative tweets: 21.0%\n"
     ]
    }
   ],
   "source": [
    "print(\"Percentage of positive tweets: {}%\".format(len(pos_tweets)*100/len(data['Tweets'])))\n",
    "print(\"Percentage of neutral tweets: {}%\".format(len(neu_tweets)*100/len(data['Tweets'])))\n",
    "print(\"Percentage de negative tweets: {}%\".format(len(neg_tweets)*100/len(data['Tweets'])))"
   ]
  },
  {
   "cell_type": "code",
   "execution_count": null,
   "metadata": {},
   "outputs": [],
   "source": []
  }
 ],
 "metadata": {
  "kernelspec": {
   "display_name": "Python 3",
   "language": "python",
   "name": "python3"
  },
  "language_info": {
   "codemirror_mode": {
    "name": "ipython",
    "version": 3
   },
   "file_extension": ".py",
   "mimetype": "text/x-python",
   "name": "python",
   "nbconvert_exporter": "python",
   "pygments_lexer": "ipython3",
   "version": "3.5.5"
  }
 },
 "nbformat": 4,
 "nbformat_minor": 2
}
